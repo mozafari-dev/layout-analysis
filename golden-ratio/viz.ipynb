{
 "cells": [
  {
   "cell_type": "code",
   "execution_count": 1,
   "metadata": {},
   "outputs": [],
   "source": [
    "import pandas as pd\n",
    "import numpy as np\n",
    "\n",
    "import matplotlib.pyplot as plt\n",
    "import seaborn as sns\n",
    "\n",
    "plt.rcParams['figure.figsize']= (16, 9)"
   ]
  },
  {
   "cell_type": "code",
   "execution_count": 2,
   "metadata": {},
   "outputs": [],
   "source": [
    "df = pd.read_csv('fixation_features.csv')"
   ]
  },
  {
   "cell_type": "code",
   "execution_count": 3,
   "metadata": {},
   "outputs": [
    {
     "data": {
      "text/plain": [
       "8606"
      ]
     },
     "execution_count": 3,
     "metadata": {},
     "output_type": "execute_result"
    }
   ],
   "source": [
    "len(df)"
   ]
  },
  {
   "cell_type": "code",
   "execution_count": 3,
   "metadata": {},
   "outputs": [
    {
     "data": {
      "text/html": [
       "<div>\n",
       "<style scoped>\n",
       "    .dataframe tbody tr th:only-of-type {\n",
       "        vertical-align: middle;\n",
       "    }\n",
       "\n",
       "    .dataframe tbody tr th {\n",
       "        vertical-align: top;\n",
       "    }\n",
       "\n",
       "    .dataframe thead th {\n",
       "        text-align: right;\n",
       "    }\n",
       "</style>\n",
       "<table border=\"1\" class=\"dataframe\">\n",
       "  <thead>\n",
       "    <tr style=\"text-align: right;\">\n",
       "      <th></th>\n",
       "      <th>index</th>\n",
       "      <th>ts</th>\n",
       "      <th>x</th>\n",
       "      <th>y</th>\n",
       "      <th>event</th>\n",
       "      <th>x_fix</th>\n",
       "      <th>y_fix</th>\n",
       "      <th>duration</th>\n",
       "      <th>doc</th>\n",
       "      <th>participant</th>\n",
       "      <th>...</th>\n",
       "      <th>dx</th>\n",
       "      <th>dy</th>\n",
       "      <th>saccade_length</th>\n",
       "      <th>angularity</th>\n",
       "      <th>h_dir</th>\n",
       "      <th>v_dir</th>\n",
       "      <th>zone</th>\n",
       "      <th>regression</th>\n",
       "      <th>reading</th>\n",
       "      <th>foreshadow</th>\n",
       "    </tr>\n",
       "  </thead>\n",
       "  <tbody>\n",
       "    <tr>\n",
       "      <th>0</th>\n",
       "      <td>0</td>\n",
       "      <td>86</td>\n",
       "      <td>497</td>\n",
       "      <td>205</td>\n",
       "      <td>Fixation</td>\n",
       "      <td>498.351</td>\n",
       "      <td>203.541</td>\n",
       "      <td>74</td>\n",
       "      <td>D1</td>\n",
       "      <td>1</td>\n",
       "      <td>...</td>\n",
       "      <td>0.000</td>\n",
       "      <td>0.000</td>\n",
       "      <td>0.000</td>\n",
       "      <td>0.000</td>\n",
       "      <td>f</td>\n",
       "      <td>u</td>\n",
       "      <td>0</td>\n",
       "      <td>False</td>\n",
       "      <td>1</td>\n",
       "      <td>0</td>\n",
       "    </tr>\n",
       "    <tr>\n",
       "      <th>1</th>\n",
       "      <td>1</td>\n",
       "      <td>92</td>\n",
       "      <td>975</td>\n",
       "      <td>170</td>\n",
       "      <td>Fixation</td>\n",
       "      <td>980.400</td>\n",
       "      <td>172.800</td>\n",
       "      <td>5</td>\n",
       "      <td>D1</td>\n",
       "      <td>1</td>\n",
       "      <td>...</td>\n",
       "      <td>482.049</td>\n",
       "      <td>30.741</td>\n",
       "      <td>483.028</td>\n",
       "      <td>-3.649</td>\n",
       "      <td>f</td>\n",
       "      <td>d</td>\n",
       "      <td>0</td>\n",
       "      <td>False</td>\n",
       "      <td>0</td>\n",
       "      <td>1</td>\n",
       "    </tr>\n",
       "    <tr>\n",
       "      <th>2</th>\n",
       "      <td>2</td>\n",
       "      <td>109</td>\n",
       "      <td>1123</td>\n",
       "      <td>167</td>\n",
       "      <td>Fixation</td>\n",
       "      <td>1112.060</td>\n",
       "      <td>176.375</td>\n",
       "      <td>16</td>\n",
       "      <td>D1</td>\n",
       "      <td>1</td>\n",
       "      <td>...</td>\n",
       "      <td>131.660</td>\n",
       "      <td>3.575</td>\n",
       "      <td>131.709</td>\n",
       "      <td>1.555</td>\n",
       "      <td>f</td>\n",
       "      <td>u</td>\n",
       "      <td>2</td>\n",
       "      <td>False</td>\n",
       "      <td>0</td>\n",
       "      <td>1</td>\n",
       "    </tr>\n",
       "    <tr>\n",
       "      <th>3</th>\n",
       "      <td>3</td>\n",
       "      <td>126</td>\n",
       "      <td>1290</td>\n",
       "      <td>242</td>\n",
       "      <td>Fixation</td>\n",
       "      <td>1290.000</td>\n",
       "      <td>242.000</td>\n",
       "      <td>8</td>\n",
       "      <td>D1</td>\n",
       "      <td>1</td>\n",
       "      <td>...</td>\n",
       "      <td>177.940</td>\n",
       "      <td>65.625</td>\n",
       "      <td>189.656</td>\n",
       "      <td>20.244</td>\n",
       "      <td>f</td>\n",
       "      <td>u</td>\n",
       "      <td>2</td>\n",
       "      <td>True</td>\n",
       "      <td>0</td>\n",
       "      <td>0</td>\n",
       "    </tr>\n",
       "    <tr>\n",
       "      <th>4</th>\n",
       "      <td>4</td>\n",
       "      <td>133</td>\n",
       "      <td>282</td>\n",
       "      <td>227</td>\n",
       "      <td>Fixation</td>\n",
       "      <td>288.667</td>\n",
       "      <td>230.333</td>\n",
       "      <td>6</td>\n",
       "      <td>D1</td>\n",
       "      <td>1</td>\n",
       "      <td>...</td>\n",
       "      <td>1001.333</td>\n",
       "      <td>11.667</td>\n",
       "      <td>1001.401</td>\n",
       "      <td>-179.332</td>\n",
       "      <td>b</td>\n",
       "      <td>d</td>\n",
       "      <td>1</td>\n",
       "      <td>False</td>\n",
       "      <td>0</td>\n",
       "      <td>1</td>\n",
       "    </tr>\n",
       "  </tbody>\n",
       "</table>\n",
       "<p>5 rows × 21 columns</p>\n",
       "</div>"
      ],
      "text/plain": [
       "   index   ts     x    y     event     x_fix    y_fix  duration doc  \\\n",
       "0      0   86   497  205  Fixation   498.351  203.541        74  D1   \n",
       "1      1   92   975  170  Fixation   980.400  172.800         5  D1   \n",
       "2      2  109  1123  167  Fixation  1112.060  176.375        16  D1   \n",
       "3      3  126  1290  242  Fixation  1290.000  242.000         8  D1   \n",
       "4      4  133   282  227  Fixation   288.667  230.333         6  D1   \n",
       "\n",
       "   participant  ...        dx      dy  saccade_length  angularity  h_dir  \\\n",
       "0            1  ...     0.000   0.000           0.000       0.000      f   \n",
       "1            1  ...   482.049  30.741         483.028      -3.649      f   \n",
       "2            1  ...   131.660   3.575         131.709       1.555      f   \n",
       "3            1  ...   177.940  65.625         189.656      20.244      f   \n",
       "4            1  ...  1001.333  11.667        1001.401    -179.332      b   \n",
       "\n",
       "  v_dir zone  regression  reading  foreshadow  \n",
       "0     u    0       False        1           0  \n",
       "1     d    0       False        0           1  \n",
       "2     u    2       False        0           1  \n",
       "3     u    2        True        0           0  \n",
       "4     d    1       False        0           1  \n",
       "\n",
       "[5 rows x 21 columns]"
      ]
     },
     "execution_count": 3,
     "metadata": {},
     "output_type": "execute_result"
    }
   ],
   "source": [
    "df.head()"
   ]
  },
  {
   "cell_type": "code",
   "execution_count": 22,
   "metadata": {},
   "outputs": [],
   "source": [
    "df['saccade_length_deg'] = df.saccade_length / 80"
   ]
  },
  {
   "cell_type": "code",
   "execution_count": 25,
   "metadata": {},
   "outputs": [
    {
     "data": {
      "text/plain": [
       "10.901825845803526"
      ]
     },
     "execution_count": 25,
     "metadata": {},
     "output_type": "execute_result"
    }
   ],
   "source": [
    "df[df.doc=='D1'].saccade_length_deg.mean()"
   ]
  },
  {
   "cell_type": "code",
   "execution_count": 26,
   "metadata": {},
   "outputs": [
    {
     "data": {
      "text/plain": [
       "5.047386479855364"
      ]
     },
     "execution_count": 26,
     "metadata": {},
     "output_type": "execute_result"
    }
   ],
   "source": [
    "df[df.doc=='D2'].saccade_length_deg.mean()"
   ]
  },
  {
   "cell_type": "code",
   "execution_count": 33,
   "metadata": {},
   "outputs": [
    {
     "data": {
      "text/plain": [
       "8.023422251138582"
      ]
     },
     "execution_count": 33,
     "metadata": {},
     "output_type": "execute_result"
    }
   ],
   "source": [
    "df[df.doc=='D1'].duration.mean()"
   ]
  },
  {
   "cell_type": "code",
   "execution_count": 34,
   "metadata": {},
   "outputs": [
    {
     "data": {
      "text/plain": [
       "7.473484848484849"
      ]
     },
     "execution_count": 34,
     "metadata": {},
     "output_type": "execute_result"
    }
   ],
   "source": [
    "df[df.doc=='D2'].duration.mean()"
   ]
  },
  {
   "cell_type": "code",
   "execution_count": 35,
   "metadata": {},
   "outputs": [
    {
     "data": {
      "text/plain": [
       "2904"
      ]
     },
     "execution_count": 35,
     "metadata": {},
     "output_type": "execute_result"
    }
   ],
   "source": [
    "len(df[df.doc=='D2'])"
   ]
  },
  {
   "cell_type": "code",
   "execution_count": 36,
   "metadata": {},
   "outputs": [
    {
     "data": {
      "text/plain": [
       "1537"
      ]
     },
     "execution_count": 36,
     "metadata": {},
     "output_type": "execute_result"
    }
   ],
   "source": [
    "len(df[df.doc=='D1'])"
   ]
  },
  {
   "cell_type": "code",
   "execution_count": 40,
   "metadata": {},
   "outputs": [
    {
     "data": {
      "text/plain": [
       "0.1115702479338843"
      ]
     },
     "execution_count": 40,
     "metadata": {},
     "output_type": "execute_result"
    }
   ],
   "source": [
    "len(df[np.logical_and(df.doc=='S2', df.regression==True)]) / 2904"
   ]
  },
  {
   "cell_type": "code",
   "execution_count": 41,
   "metadata": {},
   "outputs": [
    {
     "data": {
      "text/plain": [
       "0.048209366391184574"
      ]
     },
     "execution_count": 41,
     "metadata": {},
     "output_type": "execute_result"
    }
   ],
   "source": [
    "len(df[np.logical_and(df.doc=='S1', df.regression==True)]) / 2904"
   ]
  },
  {
   "cell_type": "code",
   "execution_count": 3,
   "metadata": {},
   "outputs": [],
   "source": [
    "sf = pd.read_csv('participants.csv', sep=',')"
   ]
  },
  {
   "cell_type": "code",
   "execution_count": 4,
   "metadata": {},
   "outputs": [],
   "source": [
    "for i, item in sf.iterrows():\n",
    "    w=335*2.7 if item.doc == 'D' else 312*2.7\n",
    "    sf.loc[i, 'wpm'] =  w / (item.t / 6000 )"
   ]
  },
  {
   "cell_type": "code",
   "execution_count": 5,
   "metadata": {},
   "outputs": [],
   "source": [
    "sf.to_csv('participants.csv', index=None)"
   ]
  },
  {
   "cell_type": "code",
   "execution_count": null,
   "metadata": {},
   "outputs": [],
   "source": []
  }
 ],
 "metadata": {
  "kernelspec": {
   "display_name": "Python 3",
   "language": "python",
   "name": "python3"
  },
  "language_info": {
   "codemirror_mode": {
    "name": "ipython",
    "version": 3
   },
   "file_extension": ".py",
   "mimetype": "text/x-python",
   "name": "python",
   "nbconvert_exporter": "python",
   "pygments_lexer": "ipython3",
   "version": "3.8.3"
  }
 },
 "nbformat": 4,
 "nbformat_minor": 4
}
