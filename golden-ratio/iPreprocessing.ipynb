{
 "cells": [
  {
   "cell_type": "code",
   "execution_count": 5,
   "metadata": {},
   "outputs": [],
   "source": [
    "import os\n",
    "from glob import glob\n",
    "import numpy as np\n",
    "import pandas as pd"
   ]
  },
  {
   "cell_type": "code",
   "execution_count": null,
   "metadata": {},
   "outputs": [],
   "source": [
    "raw_samples = glob('data/llah_raw_samples/*.txt')\n",
    "col_names = ['ts', 'x', 'y', 'event', 'x_fix', 'y_fix', 'duration', 'word', 'doc']"
   ]
  },
  {
   "cell_type": "code",
   "execution_count": null,
   "metadata": {},
   "outputs": [],
   "source": [
    "def convert_timestamp(ts):\n",
    "    try:\n",
    "        m, s, fs = [int(t) for t in ts.split(':')]\n",
    "        t = (m*60) + (s*24) + fs \n",
    "        return t\n",
    "    except:\n",
    "        return None\n",
    "    \n",
    "def get_fixation(df):\n",
    "    tf = pd.DataFrame(columns=df.columns)\n",
    "    ix = 0\n",
    "    for i, item in df.iterrows():\n",
    "        if i > 0 and item.event != 'Fixation' and df.loc[i-1, 'event'] == 'Fixation':\n",
    "            tf.loc[ix] = df.loc[i-1]\n",
    "            ix += 1\n",
    "    return tf"
   ]
  },
  {
   "cell_type": "code",
   "execution_count": null,
   "metadata": {},
   "outputs": [],
   "source": [
    "data_frames = []\n",
    "for raw in raw_samples:\n",
    "    df = pd.read_csv(raw, sep='\\t', names=col_names, header=0)\n",
    "    df = df.drop('word', axis=1)\n",
    "    df['participant'], df['condition'] = raw.split('P')[-1].split('.')[0].split('-')\n",
    "    df.ts = df.ts.apply(convert_timestamp)\n",
    "    df.doc = df.doc.fillna(method='ffilL')\n",
    "    data_frames.append(df)\n",
    "df = pd.concat(data_frames).reset_index(drop=True)\n"
   ]
  },
  {
   "cell_type": "code",
   "execution_count": null,
   "metadata": {},
   "outputs": [],
   "source": [
    "df = get_fixation(df)"
   ]
  },
  {
   "cell_type": "code",
   "execution_count": null,
   "metadata": {},
   "outputs": [],
   "source": [
    "df.to_csv('data/all_fix.csv', index=None)"
   ]
  },
  {
   "cell_type": "code",
   "execution_count": null,
   "metadata": {},
   "outputs": [],
   "source": []
  }
 ],
 "metadata": {
  "kernelspec": {
   "display_name": "Python 3",
   "language": "python",
   "name": "python3"
  },
  "language_info": {
   "codemirror_mode": {
    "name": "ipython",
    "version": 3
   },
   "file_extension": ".py",
   "mimetype": "text/x-python",
   "name": "python",
   "nbconvert_exporter": "python",
   "pygments_lexer": "ipython3",
   "version": "3.8.3"
  }
 },
 "nbformat": 4,
 "nbformat_minor": 4
}
