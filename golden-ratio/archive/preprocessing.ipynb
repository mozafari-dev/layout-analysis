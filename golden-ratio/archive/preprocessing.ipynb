{
 "cells": [
  {
   "cell_type": "code",
   "execution_count": 53,
   "metadata": {},
   "outputs": [],
   "source": [
    "import os\n",
    "from glob import glob\n",
    "\n",
    "import pandas as pd\n",
    "import numpy as np\n",
    "\n",
    "import matplotlib.pyplot as plt\n",
    "import seaborn as sns"
   ]
  },
  {
   "cell_type": "code",
   "execution_count": 54,
   "metadata": {},
   "outputs": [],
   "source": [
    "plt.rcParams['figure.figsize'] = (16, 9)\n",
    "sns.set(style=\"whitegrid\")\n",
    "\n",
    "llah = glob('data/llah_raw_samples/*.txt')"
   ]
  },
  {
   "cell_type": "code",
   "execution_count": 55,
   "metadata": {},
   "outputs": [],
   "source": [
    "def calaculate_fixation(fixations):\n",
    "    df = pd.DataFrame(columns=['x', 'y', 'dur'])\n",
    "    for i, fix in enumerate(fixations):\n",
    "        x = np.median(fix[:, 0]).astype(int)\n",
    "        y = np.median(fix[:, 1]).astype(int)\n",
    "        dur = len(fix) * 24\n",
    "        df.loc[i] = [x, y, dur]\n",
    "    return df\n",
    "\n",
    "        \n",
    "def fix_dispersion(gaze_points=None, time_threshold=4, dist_threshold=50):\n",
    "    fixations = []\n",
    "    ix = 0\n",
    "    fix = []\n",
    "    for i, item in gaze_points.iterrows():\n",
    "        if i != 0:\n",
    "            a = np.array([df.loc[ix, 'x'], df.loc[ix, 'y']])\n",
    "            if len(fix) == 0:\n",
    "                fix.append(a.tolist())\n",
    "            b = np.array([item.x, item.y])\n",
    "            dist = np.linalg.norm(a-b)\n",
    "            if dist < dist_threshold:\n",
    "                fix.append(b.tolist())\n",
    "            else:\n",
    "                if i - ix >= time_threshold:\n",
    "                    fixations.append(np.array(fix))\n",
    "                ix = i\n",
    "                fix = []\n",
    "    return calaculate_fixation(fixations)\n",
    "        "
   ]
  },
  {
   "cell_type": "code",
   "execution_count": 56,
   "metadata": {},
   "outputs": [],
   "source": [
    "for i, path in enumerate(llah):\n",
    "    df = pd.read_csv(llah[0], sep='\\t', names=['ts', 'x', 'y', 'fix', 'x_fix', 'y_fix', 'fix_counter', 'nearest_word', 'doc' ], header=0)\n",
    "    df['t'] = df.index\n",
    "    df = df[['t', 'x', 'y']]\n",
    "    con = str(i%2+1)\n",
    "    sub = str(i//2+1)\n",
    "    if len(sub) == 1:\n",
    "        sub = '0' + sub\n",
    "    df.to_csv(f'data/raw_gaze/G'+ sub + '-' + con  + '.csv', sep=',', index=None)\n",
    "    fix = fix_dispersion(gaze_points=df)\n",
    "    fix.to_csv(f'data/fixations/F'+ sub + '-' + con  + '.csv', sep=',', index=None)\n"
   ]
  },
  {
   "cell_type": "code",
   "execution_count": null,
   "metadata": {},
   "outputs": [],
   "source": []
  },
  {
   "cell_type": "code",
   "execution_count": null,
   "metadata": {},
   "outputs": [],
   "source": []
  }
 ],
 "metadata": {
  "kernelspec": {
   "display_name": "Python 3",
   "language": "python",
   "name": "python3"
  },
  "language_info": {
   "codemirror_mode": {
    "name": "ipython",
    "version": 3
   },
   "file_extension": ".py",
   "mimetype": "text/x-python",
   "name": "python",
   "nbconvert_exporter": "python",
   "pygments_lexer": "ipython3",
   "version": "3.7.6"
  }
 },
 "nbformat": 4,
 "nbformat_minor": 4
}
