{
 "cells": [
  {
   "cell_type": "code",
   "execution_count": 2,
   "metadata": {},
   "outputs": [],
   "source": [
    "import numpy as np\n",
    "import pandas as pd\n",
    "import math"
   ]
  },
  {
   "cell_type": "code",
   "execution_count": 3,
   "metadata": {},
   "outputs": [],
   "source": [
    "subject = '14'\n",
    "experiment = '1'"
   ]
  },
  {
   "cell_type": "code",
   "execution_count": 10,
   "metadata": {
    "collapsed": false,
    "jupyter": {
     "outputs_hidden": false
    }
   },
   "outputs": [],
   "source": [
    "df = pd.read_table(subject + '.txt')\n",
    "df.rename(columns={'# frameNo': 'time', 'x_coordinate(jpg, png, ...)': 'x', 'y_coordinate(jpg, png, ...)': 'y', \n",
    "                   'fixation_or_not': 'fix', 'fixation_centroid_x': 'x_fix', 'fixation_centroid_y': 'y_fix', \n",
    "                   'fixation_duration': 'fix_dur', 'nearestWord': 'word', 'RetrievedDocument': 'doc'}, inplace=True)"
   ]
  },
  {
   "cell_type": "code",
   "execution_count": 11,
   "metadata": {},
   "outputs": [
    {
     "data": {
      "text/html": [
       "<div>\n",
       "<style scoped>\n",
       "    .dataframe tbody tr th:only-of-type {\n",
       "        vertical-align: middle;\n",
       "    }\n",
       "\n",
       "    .dataframe tbody tr th {\n",
       "        vertical-align: top;\n",
       "    }\n",
       "\n",
       "    .dataframe thead th {\n",
       "        text-align: right;\n",
       "    }\n",
       "</style>\n",
       "<table border=\"1\" class=\"dataframe\">\n",
       "  <thead>\n",
       "    <tr style=\"text-align: right;\">\n",
       "      <th></th>\n",
       "      <th># frameNo</th>\n",
       "      <th>x_coordinate(jpg, png, ...)</th>\n",
       "      <th>y_coordinate(jpg, png, ...)</th>\n",
       "      <th>fixation_or_not</th>\n",
       "      <th>fixation_centroid_x</th>\n",
       "      <th>fixation_centroid_y</th>\n",
       "      <th>fixation_duration</th>\n",
       "      <th>nearestWord</th>\n",
       "      <th>RetrievedDocument</th>\n",
       "    </tr>\n",
       "  </thead>\n",
       "  <tbody>\n",
       "    <tr>\n",
       "      <th>0</th>\n",
       "      <td>3</td>\n",
       "      <td>-1</td>\n",
       "      <td>-1</td>\n",
       "      <td>--------</td>\n",
       "      <td>-9999.000</td>\n",
       "      <td>-9999.000</td>\n",
       "      <td>2</td>\n",
       "      <td>----</td>\n",
       "      <td>NaN</td>\n",
       "    </tr>\n",
       "    <tr>\n",
       "      <th>1</th>\n",
       "      <td>14</td>\n",
       "      <td>-1</td>\n",
       "      <td>-1</td>\n",
       "      <td>Fixation</td>\n",
       "      <td>-0.500</td>\n",
       "      <td>-0.500</td>\n",
       "      <td>4</td>\n",
       "      <td>----</td>\n",
       "      <td>NaN</td>\n",
       "    </tr>\n",
       "    <tr>\n",
       "      <th>2</th>\n",
       "      <td>15</td>\n",
       "      <td>-1</td>\n",
       "      <td>-1</td>\n",
       "      <td>Fixation</td>\n",
       "      <td>-0.500</td>\n",
       "      <td>-0.500</td>\n",
       "      <td>6</td>\n",
       "      <td>----</td>\n",
       "      <td>NaN</td>\n",
       "    </tr>\n",
       "    <tr>\n",
       "      <th>3</th>\n",
       "      <td>16</td>\n",
       "      <td>-1</td>\n",
       "      <td>-1</td>\n",
       "      <td>Fixation</td>\n",
       "      <td>-0.500</td>\n",
       "      <td>-0.500</td>\n",
       "      <td>8</td>\n",
       "      <td>----</td>\n",
       "      <td>image-01</td>\n",
       "    </tr>\n",
       "    <tr>\n",
       "      <th>4</th>\n",
       "      <td>17</td>\n",
       "      <td>-1</td>\n",
       "      <td>-1</td>\n",
       "      <td>Fixation</td>\n",
       "      <td>-0.500</td>\n",
       "      <td>-0.500</td>\n",
       "      <td>10</td>\n",
       "      <td>----</td>\n",
       "      <td>NaN</td>\n",
       "    </tr>\n",
       "    <tr>\n",
       "      <th>...</th>\n",
       "      <td>...</td>\n",
       "      <td>...</td>\n",
       "      <td>...</td>\n",
       "      <td>...</td>\n",
       "      <td>...</td>\n",
       "      <td>...</td>\n",
       "      <td>...</td>\n",
       "      <td>...</td>\n",
       "      <td>...</td>\n",
       "    </tr>\n",
       "    <tr>\n",
       "      <th>49980</th>\n",
       "      <td>49993</td>\n",
       "      <td>413</td>\n",
       "      <td>653</td>\n",
       "      <td>--------</td>\n",
       "      <td>-9999.000</td>\n",
       "      <td>-9999.000</td>\n",
       "      <td>3</td>\n",
       "      <td>----</td>\n",
       "      <td>NaN</td>\n",
       "    </tr>\n",
       "    <tr>\n",
       "      <th>49981</th>\n",
       "      <td>49994</td>\n",
       "      <td>413</td>\n",
       "      <td>653</td>\n",
       "      <td>Fixation</td>\n",
       "      <td>423.000</td>\n",
       "      <td>646.000</td>\n",
       "      <td>4</td>\n",
       "      <td>----</td>\n",
       "      <td>NaN</td>\n",
       "    </tr>\n",
       "    <tr>\n",
       "      <th>49982</th>\n",
       "      <td>49995</td>\n",
       "      <td>454</td>\n",
       "      <td>659</td>\n",
       "      <td>Fixation</td>\n",
       "      <td>429.200</td>\n",
       "      <td>648.600</td>\n",
       "      <td>5</td>\n",
       "      <td>----</td>\n",
       "      <td>NaN</td>\n",
       "    </tr>\n",
       "    <tr>\n",
       "      <th>49983</th>\n",
       "      <td>49996</td>\n",
       "      <td>465</td>\n",
       "      <td>651</td>\n",
       "      <td>Fixation</td>\n",
       "      <td>435.167</td>\n",
       "      <td>649.000</td>\n",
       "      <td>6</td>\n",
       "      <td>----</td>\n",
       "      <td>NaN</td>\n",
       "    </tr>\n",
       "    <tr>\n",
       "      <th>49984</th>\n",
       "      <td>49997</td>\n",
       "      <td>444</td>\n",
       "      <td>671</td>\n",
       "      <td>Fixation</td>\n",
       "      <td>436.429</td>\n",
       "      <td>652.143</td>\n",
       "      <td>7</td>\n",
       "      <td>----</td>\n",
       "      <td>NaN</td>\n",
       "    </tr>\n",
       "  </tbody>\n",
       "</table>\n",
       "<p>49985 rows × 9 columns</p>\n",
       "</div>"
      ],
      "text/plain": [
       "       # frameNo  x_coordinate(jpg, png, ...)  y_coordinate(jpg, png, ...)  \\\n",
       "0              3                           -1                           -1   \n",
       "1             14                           -1                           -1   \n",
       "2             15                           -1                           -1   \n",
       "3             16                           -1                           -1   \n",
       "4             17                           -1                           -1   \n",
       "...          ...                          ...                          ...   \n",
       "49980      49993                          413                          653   \n",
       "49981      49994                          413                          653   \n",
       "49982      49995                          454                          659   \n",
       "49983      49996                          465                          651   \n",
       "49984      49997                          444                          671   \n",
       "\n",
       "      fixation_or_not  fixation_centroid_x  fixation_centroid_y  \\\n",
       "0            --------            -9999.000            -9999.000   \n",
       "1            Fixation               -0.500               -0.500   \n",
       "2            Fixation               -0.500               -0.500   \n",
       "3            Fixation               -0.500               -0.500   \n",
       "4            Fixation               -0.500               -0.500   \n",
       "...               ...                  ...                  ...   \n",
       "49980        --------            -9999.000            -9999.000   \n",
       "49981        Fixation              423.000              646.000   \n",
       "49982        Fixation              429.200              648.600   \n",
       "49983        Fixation              435.167              649.000   \n",
       "49984        Fixation              436.429              652.143   \n",
       "\n",
       "       fixation_duration nearestWord RetrievedDocument  \n",
       "0                      2        ----               NaN  \n",
       "1                      4        ----               NaN  \n",
       "2                      6        ----               NaN  \n",
       "3                      8        ----          image-01  \n",
       "4                     10        ----               NaN  \n",
       "...                  ...         ...               ...  \n",
       "49980                  3        ----               NaN  \n",
       "49981                  4        ----               NaN  \n",
       "49982                  5        ----               NaN  \n",
       "49983                  6        ----               NaN  \n",
       "49984                  7        ----               NaN  \n",
       "\n",
       "[49985 rows x 9 columns]"
      ]
     },
     "execution_count": 11,
     "metadata": {},
     "output_type": "execute_result"
    }
   ],
   "source": [
    "df"
   ]
  },
  {
   "cell_type": "code",
   "execution_count": 9,
   "metadata": {
    "collapsed": false,
    "jupyter": {
     "outputs_hidden": false
    }
   },
   "outputs": [
    {
     "data": {
      "text/html": [
       "<div>\n",
       "<style scoped>\n",
       "    .dataframe tbody tr th:only-of-type {\n",
       "        vertical-align: middle;\n",
       "    }\n",
       "\n",
       "    .dataframe tbody tr th {\n",
       "        vertical-align: top;\n",
       "    }\n",
       "\n",
       "    .dataframe thead th {\n",
       "        text-align: right;\n",
       "    }\n",
       "</style>\n",
       "<table border=\"1\" class=\"dataframe\">\n",
       "  <thead>\n",
       "    <tr style=\"text-align: right;\">\n",
       "      <th></th>\n",
       "      <th># frameNo</th>\n",
       "      <th>x</th>\n",
       "      <th>y</th>\n",
       "      <th>fix</th>\n",
       "      <th>x_fix</th>\n",
       "      <th>y_fix</th>\n",
       "      <th>fix_dur</th>\n",
       "      <th>word</th>\n",
       "      <th>doc</th>\n",
       "    </tr>\n",
       "  </thead>\n",
       "  <tbody>\n",
       "    <tr>\n",
       "      <th>49980</th>\n",
       "      <td>49993</td>\n",
       "      <td>413</td>\n",
       "      <td>653</td>\n",
       "      <td>--------</td>\n",
       "      <td>-9999.000</td>\n",
       "      <td>-9999.000</td>\n",
       "      <td>3</td>\n",
       "      <td>----</td>\n",
       "      <td>NaN</td>\n",
       "    </tr>\n",
       "    <tr>\n",
       "      <th>49981</th>\n",
       "      <td>49994</td>\n",
       "      <td>413</td>\n",
       "      <td>653</td>\n",
       "      <td>Fixation</td>\n",
       "      <td>423.000</td>\n",
       "      <td>646.000</td>\n",
       "      <td>4</td>\n",
       "      <td>----</td>\n",
       "      <td>NaN</td>\n",
       "    </tr>\n",
       "    <tr>\n",
       "      <th>49982</th>\n",
       "      <td>49995</td>\n",
       "      <td>454</td>\n",
       "      <td>659</td>\n",
       "      <td>Fixation</td>\n",
       "      <td>429.200</td>\n",
       "      <td>648.600</td>\n",
       "      <td>5</td>\n",
       "      <td>----</td>\n",
       "      <td>NaN</td>\n",
       "    </tr>\n",
       "    <tr>\n",
       "      <th>49983</th>\n",
       "      <td>49996</td>\n",
       "      <td>465</td>\n",
       "      <td>651</td>\n",
       "      <td>Fixation</td>\n",
       "      <td>435.167</td>\n",
       "      <td>649.000</td>\n",
       "      <td>6</td>\n",
       "      <td>----</td>\n",
       "      <td>NaN</td>\n",
       "    </tr>\n",
       "    <tr>\n",
       "      <th>49984</th>\n",
       "      <td>49997</td>\n",
       "      <td>444</td>\n",
       "      <td>671</td>\n",
       "      <td>Fixation</td>\n",
       "      <td>436.429</td>\n",
       "      <td>652.143</td>\n",
       "      <td>7</td>\n",
       "      <td>----</td>\n",
       "      <td>NaN</td>\n",
       "    </tr>\n",
       "  </tbody>\n",
       "</table>\n",
       "</div>"
      ],
      "text/plain": [
       "       # frameNo    x    y       fix     x_fix     y_fix  fix_dur  word  doc\n",
       "49980      49993  413  653  -------- -9999.000 -9999.000        3  ----  NaN\n",
       "49981      49994  413  653  Fixation   423.000   646.000        4  ----  NaN\n",
       "49982      49995  454  659  Fixation   429.200   648.600        5  ----  NaN\n",
       "49983      49996  465  651  Fixation   435.167   649.000        6  ----  NaN\n",
       "49984      49997  444  671  Fixation   436.429   652.143        7  ----  NaN"
      ]
     },
     "execution_count": 9,
     "metadata": {},
     "output_type": "execute_result"
    }
   ],
   "source": [
    "df.tail()"
   ]
  },
  {
   "cell_type": "code",
   "execution_count": 29,
   "metadata": {
    "collapsed": false,
    "jupyter": {
     "outputs_hidden": false
    }
   },
   "outputs": [],
   "source": [
    "# Time Correction\n",
    "for index, rows in df.iterrows():\n",
    "    frame = rows['time']\n",
    "    _time = frame/3\n",
    "    df.loc[index, 'time'] = _time"
   ]
  },
  {
   "cell_type": "code",
   "execution_count": 30,
   "metadata": {
    "collapsed": false,
    "jupyter": {
     "outputs_hidden": false
    }
   },
   "outputs": [],
   "source": [
    "df = df[['time', 'x' , 'y' , 'fix', 'x_fix', 'y_fix', 'fix_dur', 'doc' ]]"
   ]
  },
  {
   "cell_type": "code",
   "execution_count": 31,
   "metadata": {
    "collapsed": false,
    "jupyter": {
     "outputs_hidden": false
    }
   },
   "outputs": [],
   "source": [
    "df = df[~pd.isnull(df.doc)]"
   ]
  },
  {
   "cell_type": "code",
   "execution_count": 32,
   "metadata": {
    "collapsed": true,
    "jupyter": {
     "outputs_hidden": true
    }
   },
   "outputs": [],
   "source": [
    "fixation_list = list()"
   ]
  },
  {
   "cell_type": "code",
   "execution_count": 33,
   "metadata": {
    "collapsed": false,
    "jupyter": {
     "outputs_hidden": false
    }
   },
   "outputs": [],
   "source": [
    "flg = fix_index = fix_dur = x = y = 0\n",
    "for index, rows in df.iterrows():\n",
    "    if rows['fix'] == 'Fixation' and flg == 0:\n",
    "        flg = 1\n",
    "        fix_index += 1\n",
    "        fix_dur = rows['fix_dur']\n",
    "        x = rows['x_fix']\n",
    "        y = rows['y_fix']\n",
    "    elif rows['fix'] == 'Fixation' and flg == 1:\n",
    "        fix_dur = rows['fix_dur']\n",
    "        x = rows['x_fix']\n",
    "        y = rows['y_fix']\n",
    "    elif rows['fix'] != 'Fixation' and flg == 1:\n",
    "        flg = 0\n",
    "        if x < 0:\n",
    "            fix_index -= 1\n",
    "        else:  \n",
    "            fixation_list.append([rows['time'], fix_index, x, y, fix_dur, rows['doc'], subject, experiment])\n",
    "    else:\n",
    "        continue"
   ]
  },
  {
   "cell_type": "code",
   "execution_count": 34,
   "metadata": {
    "collapsed": false,
    "jupyter": {
     "outputs_hidden": false
    }
   },
   "outputs": [
    {
     "name": "stdout",
     "output_type": "stream",
     "text": [
      "3187\n"
     ]
    }
   ],
   "source": [
    "print fix_index"
   ]
  },
  {
   "cell_type": "code",
   "execution_count": 35,
   "metadata": {
    "collapsed": false,
    "jupyter": {
     "outputs_hidden": false
    }
   },
   "outputs": [],
   "source": [
    "fdf = pd.DataFrame(fixation_list)\n",
    "fdf.rename(columns={0: 'time', 1: 'fix_index', 2: 'x', 3: 'y', 4: 'fix_dur', 5: 'doc', 6: 'subject', 7: 'cond'}, inplace=True)"
   ]
  },
  {
   "cell_type": "code",
   "execution_count": 37,
   "metadata": {
    "collapsed": false,
    "jupyter": {
     "outputs_hidden": false
    }
   },
   "outputs": [
    {
     "data": {
      "text/html": [
       "<div>\n",
       "<table border=\"1\" class=\"dataframe\">\n",
       "  <thead>\n",
       "    <tr style=\"text-align: right;\">\n",
       "      <th></th>\n",
       "      <th>time</th>\n",
       "      <th>fix_index</th>\n",
       "      <th>x</th>\n",
       "      <th>y</th>\n",
       "      <th>fix_dur</th>\n",
       "      <th>doc</th>\n",
       "      <th>subject</th>\n",
       "      <th>cond</th>\n",
       "    </tr>\n",
       "  </thead>\n",
       "  <tbody>\n",
       "    <tr>\n",
       "      <th>0</th>\n",
       "      <td>39</td>\n",
       "      <td>1</td>\n",
       "      <td>1191.240</td>\n",
       "      <td>358.706</td>\n",
       "      <td>17</td>\n",
       "      <td>image-01</td>\n",
       "      <td>14</td>\n",
       "      <td>1</td>\n",
       "    </tr>\n",
       "    <tr>\n",
       "      <th>1</th>\n",
       "      <td>47</td>\n",
       "      <td>2</td>\n",
       "      <td>511.647</td>\n",
       "      <td>639.824</td>\n",
       "      <td>17</td>\n",
       "      <td>image-01</td>\n",
       "      <td>14</td>\n",
       "      <td>1</td>\n",
       "    </tr>\n",
       "    <tr>\n",
       "      <th>2</th>\n",
       "      <td>50</td>\n",
       "      <td>3</td>\n",
       "      <td>750.833</td>\n",
       "      <td>491.000</td>\n",
       "      <td>6</td>\n",
       "      <td>image-01</td>\n",
       "      <td>14</td>\n",
       "      <td>1</td>\n",
       "    </tr>\n",
       "    <tr>\n",
       "      <th>3</th>\n",
       "      <td>54</td>\n",
       "      <td>4</td>\n",
       "      <td>656.000</td>\n",
       "      <td>496.636</td>\n",
       "      <td>11</td>\n",
       "      <td>image-01</td>\n",
       "      <td>14</td>\n",
       "      <td>1</td>\n",
       "    </tr>\n",
       "    <tr>\n",
       "      <th>4</th>\n",
       "      <td>59</td>\n",
       "      <td>5</td>\n",
       "      <td>739.429</td>\n",
       "      <td>465.643</td>\n",
       "      <td>14</td>\n",
       "      <td>image-01</td>\n",
       "      <td>14</td>\n",
       "      <td>1</td>\n",
       "    </tr>\n",
       "  </tbody>\n",
       "</table>\n",
       "</div>"
      ],
      "text/plain": [
       "   time  fix_index         x        y  fix_dur       doc subject cond\n",
       "0    39          1  1191.240  358.706       17  image-01      14    1\n",
       "1    47          2   511.647  639.824       17  image-01      14    1\n",
       "2    50          3   750.833  491.000        6  image-01      14    1\n",
       "3    54          4   656.000  496.636       11  image-01      14    1\n",
       "4    59          5   739.429  465.643       14  image-01      14    1"
      ]
     },
     "execution_count": 37,
     "metadata": {},
     "output_type": "execute_result"
    }
   ],
   "source": [
    "fdf.head()"
   ]
  },
  {
   "cell_type": "code",
   "execution_count": 38,
   "metadata": {
    "collapsed": true,
    "jupyter": {
     "outputs_hidden": true
    }
   },
   "outputs": [],
   "source": [
    "fdf.to_csv('CSV/subjects/' + subject + '.csv', index = False, header = False)"
   ]
  },
  {
   "cell_type": "code",
   "execution_count": 39,
   "metadata": {
    "collapsed": false,
    "jupyter": {
     "outputs_hidden": false
    }
   },
   "outputs": [
    {
     "data": {
      "text/html": [
       "<div>\n",
       "<table border=\"1\" class=\"dataframe\">\n",
       "  <thead>\n",
       "    <tr style=\"text-align: right;\">\n",
       "      <th></th>\n",
       "      <th>time</th>\n",
       "      <th>fix_index</th>\n",
       "      <th>x</th>\n",
       "      <th>y</th>\n",
       "      <th>fix_dur</th>\n",
       "      <th>doc</th>\n",
       "      <th>subject</th>\n",
       "      <th>cond</th>\n",
       "    </tr>\n",
       "  </thead>\n",
       "  <tbody>\n",
       "    <tr>\n",
       "      <th>3182</th>\n",
       "      <td>16526</td>\n",
       "      <td>3183</td>\n",
       "      <td>815.600</td>\n",
       "      <td>1619.20</td>\n",
       "      <td>5</td>\n",
       "      <td>image-07</td>\n",
       "      <td>14</td>\n",
       "      <td>1</td>\n",
       "    </tr>\n",
       "    <tr>\n",
       "      <th>3183</th>\n",
       "      <td>16528</td>\n",
       "      <td>3184</td>\n",
       "      <td>645.250</td>\n",
       "      <td>1673.75</td>\n",
       "      <td>4</td>\n",
       "      <td>image-07</td>\n",
       "      <td>14</td>\n",
       "      <td>1</td>\n",
       "    </tr>\n",
       "    <tr>\n",
       "      <th>3184</th>\n",
       "      <td>16531</td>\n",
       "      <td>3185</td>\n",
       "      <td>557.667</td>\n",
       "      <td>1595.89</td>\n",
       "      <td>9</td>\n",
       "      <td>image-07</td>\n",
       "      <td>14</td>\n",
       "      <td>1</td>\n",
       "    </tr>\n",
       "    <tr>\n",
       "      <th>3185</th>\n",
       "      <td>16536</td>\n",
       "      <td>3186</td>\n",
       "      <td>326.800</td>\n",
       "      <td>886.20</td>\n",
       "      <td>5</td>\n",
       "      <td>image-07</td>\n",
       "      <td>14</td>\n",
       "      <td>1</td>\n",
       "    </tr>\n",
       "    <tr>\n",
       "      <th>3186</th>\n",
       "      <td>16538</td>\n",
       "      <td>3187</td>\n",
       "      <td>360.500</td>\n",
       "      <td>980.00</td>\n",
       "      <td>4</td>\n",
       "      <td>image-07</td>\n",
       "      <td>14</td>\n",
       "      <td>1</td>\n",
       "    </tr>\n",
       "  </tbody>\n",
       "</table>\n",
       "</div>"
      ],
      "text/plain": [
       "       time  fix_index        x        y  fix_dur       doc subject cond\n",
       "3182  16526       3183  815.600  1619.20        5  image-07      14    1\n",
       "3183  16528       3184  645.250  1673.75        4  image-07      14    1\n",
       "3184  16531       3185  557.667  1595.89        9  image-07      14    1\n",
       "3185  16536       3186  326.800   886.20        5  image-07      14    1\n",
       "3186  16538       3187  360.500   980.00        4  image-07      14    1"
      ]
     },
     "execution_count": 39,
     "metadata": {},
     "output_type": "execute_result"
    }
   ],
   "source": [
    "fdf.tail()"
   ]
  },
  {
   "cell_type": "code",
   "execution_count": null,
   "metadata": {
    "collapsed": true,
    "jupyter": {
     "outputs_hidden": true
    }
   },
   "outputs": [],
   "source": []
  }
 ],
 "metadata": {
  "kernelspec": {
   "display_name": "Python 3",
   "language": "python",
   "name": "python3"
  },
  "language_info": {
   "codemirror_mode": {
    "name": "ipython",
    "version": 3
   },
   "file_extension": ".py",
   "mimetype": "text/x-python",
   "name": "python",
   "nbconvert_exporter": "python",
   "pygments_lexer": "ipython3",
   "version": "3.7.6"
  }
 },
 "nbformat": 4,
 "nbformat_minor": 4
}
