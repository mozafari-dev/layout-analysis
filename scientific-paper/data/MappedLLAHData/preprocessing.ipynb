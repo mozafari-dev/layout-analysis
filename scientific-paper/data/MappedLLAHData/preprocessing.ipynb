{
 "cells": [
  {
   "cell_type": "code",
   "execution_count": 4,
   "metadata": {
    "collapsed": true,
    "jupyter": {
     "outputs_hidden": true
    }
   },
   "outputs": [],
   "source": [
    "import numpy as np\n",
    "import pandas as pd\n",
    "import math"
   ]
  },
  {
   "cell_type": "code",
   "execution_count": 5,
   "metadata": {
    "collapsed": true,
    "jupyter": {
     "outputs_hidden": true
    }
   },
   "outputs": [],
   "source": [
    "subject = '18'\n",
    "experiment = '1'"
   ]
  },
  {
   "cell_type": "code",
   "execution_count": 6,
   "metadata": {
    "collapsed": false,
    "jupyter": {
     "outputs_hidden": false
    }
   },
   "outputs": [],
   "source": [
    "df = pd.read_table(subject + '.txt')\n",
    "df.rename(columns={'# frameNo': 'frame', 'x_coordinate(jpg, png, ...)': 'x', 'y_coordinate(jpg, png, ...)': 'y', \n",
    "                   'fixation_or_not': 'fix', 'fixation_centroid_x': 'x_fix', 'fixation_centroid_y': 'y_fix', \n",
    "                   'fixation_duration': 'fix_dur', 'nearestWord': 'word', 'RetrievedDocument': 'doc'}, inplace=True)"
   ]
  },
  {
   "cell_type": "code",
   "execution_count": 7,
   "metadata": {
    "collapsed": false,
    "jupyter": {
     "outputs_hidden": false
    }
   },
   "outputs": [],
   "source": [
    "df = df[['x' , 'y' , 'fix', 'x_fix', 'y_fix', 'fix_dur', 'doc' ]]"
   ]
  },
  {
   "cell_type": "code",
   "execution_count": 8,
   "metadata": {
    "collapsed": false,
    "jupyter": {
     "outputs_hidden": false
    }
   },
   "outputs": [],
   "source": [
    "df = df[~pd.isnull(df.doc)]"
   ]
  },
  {
   "cell_type": "code",
   "execution_count": 9,
   "metadata": {
    "collapsed": false,
    "jupyter": {
     "outputs_hidden": false
    }
   },
   "outputs": [
    {
     "data": {
      "text/html": [
       "<div>\n",
       "<table border=\"1\" class=\"dataframe\">\n",
       "  <thead>\n",
       "    <tr style=\"text-align: right;\">\n",
       "      <th></th>\n",
       "      <th>x</th>\n",
       "      <th>y</th>\n",
       "      <th>fix</th>\n",
       "      <th>x_fix</th>\n",
       "      <th>y_fix</th>\n",
       "      <th>fix_dur</th>\n",
       "      <th>doc</th>\n",
       "    </tr>\n",
       "  </thead>\n",
       "  <tbody>\n",
       "    <tr>\n",
       "      <th>0</th>\n",
       "      <td>-9999</td>\n",
       "      <td>-9999</td>\n",
       "      <td>--------</td>\n",
       "      <td>-9999</td>\n",
       "      <td>-9999</td>\n",
       "      <td>1</td>\n",
       "      <td>image-09</td>\n",
       "    </tr>\n",
       "    <tr>\n",
       "      <th>1</th>\n",
       "      <td>-9999</td>\n",
       "      <td>-9999</td>\n",
       "      <td>--------</td>\n",
       "      <td>-9999</td>\n",
       "      <td>-9999</td>\n",
       "      <td>2</td>\n",
       "      <td>image-09</td>\n",
       "    </tr>\n",
       "    <tr>\n",
       "      <th>2</th>\n",
       "      <td>-9999</td>\n",
       "      <td>-9999</td>\n",
       "      <td>--------</td>\n",
       "      <td>-9999</td>\n",
       "      <td>-9999</td>\n",
       "      <td>3</td>\n",
       "      <td>image-09</td>\n",
       "    </tr>\n",
       "    <tr>\n",
       "      <th>3</th>\n",
       "      <td>-9999</td>\n",
       "      <td>-9999</td>\n",
       "      <td>Fixation</td>\n",
       "      <td>-9999</td>\n",
       "      <td>-9999</td>\n",
       "      <td>4</td>\n",
       "      <td>image-09</td>\n",
       "    </tr>\n",
       "    <tr>\n",
       "      <th>5</th>\n",
       "      <td>-9999</td>\n",
       "      <td>-9999</td>\n",
       "      <td>Fixation</td>\n",
       "      <td>-9999</td>\n",
       "      <td>-9999</td>\n",
       "      <td>6</td>\n",
       "      <td>image-09</td>\n",
       "    </tr>\n",
       "  </tbody>\n",
       "</table>\n",
       "</div>"
      ],
      "text/plain": [
       "      x     y       fix  x_fix  y_fix  fix_dur       doc\n",
       "0 -9999 -9999  --------  -9999  -9999        1  image-09\n",
       "1 -9999 -9999  --------  -9999  -9999        2  image-09\n",
       "2 -9999 -9999  --------  -9999  -9999        3  image-09\n",
       "3 -9999 -9999  Fixation  -9999  -9999        4  image-09\n",
       "5 -9999 -9999  Fixation  -9999  -9999        6  image-09"
      ]
     },
     "execution_count": 9,
     "metadata": {},
     "output_type": "execute_result"
    }
   ],
   "source": [
    "df.head()"
   ]
  },
  {
   "cell_type": "code",
   "execution_count": 10,
   "metadata": {
    "collapsed": true,
    "jupyter": {
     "outputs_hidden": true
    }
   },
   "outputs": [],
   "source": [
    "fixation_list = list()"
   ]
  },
  {
   "cell_type": "code",
   "execution_count": 11,
   "metadata": {
    "collapsed": false,
    "jupyter": {
     "outputs_hidden": false
    }
   },
   "outputs": [],
   "source": [
    "flg = fix_index = fix_dur = x = y = 0\n",
    "for index, rows in df.iterrows():\n",
    "    if rows['fix'] == 'Fixation' and flg == 0:\n",
    "        flg = 1\n",
    "        fix_index += 1\n",
    "        fix_dur = rows['fix_dur']\n",
    "        x = rows['x_fix']\n",
    "        y = rows['y_fix']\n",
    "    elif rows['fix'] == 'Fixation' and flg == 1:\n",
    "        fix_dur = rows['fix_dur']\n",
    "        x = rows['x_fix']\n",
    "        y = rows['y_fix']\n",
    "    elif rows['fix'] != 'Fixation' and flg == 1:\n",
    "        flg = 0\n",
    "        if x < 0:\n",
    "            fix_index -= 1\n",
    "        else:  \n",
    "            fixation_list.append([fix_index, x, y, fix_dur, rows['doc'], subject, experiment])\n",
    "    else:\n",
    "        continue"
   ]
  },
  {
   "cell_type": "code",
   "execution_count": 12,
   "metadata": {
    "collapsed": false,
    "jupyter": {
     "outputs_hidden": false
    }
   },
   "outputs": [
    {
     "name": "stdout",
     "output_type": "stream",
     "text": [
      "2166\n"
     ]
    }
   ],
   "source": [
    "print fix_index"
   ]
  },
  {
   "cell_type": "code",
   "execution_count": 13,
   "metadata": {
    "collapsed": false,
    "jupyter": {
     "outputs_hidden": false
    }
   },
   "outputs": [],
   "source": [
    "fdf = pd.DataFrame(fixation_list)\n",
    "fdf.rename(columns={0: 'fix_index', 1: 'x', 2: 'y', 3: 'fix_dur', 4: 'doc', 5: 'subject', 6: 'cond'}, inplace=True)"
   ]
  },
  {
   "cell_type": "code",
   "execution_count": 14,
   "metadata": {
    "collapsed": false,
    "jupyter": {
     "outputs_hidden": false
    }
   },
   "outputs": [
    {
     "data": {
      "text/html": [
       "<div>\n",
       "<table border=\"1\" class=\"dataframe\">\n",
       "  <thead>\n",
       "    <tr style=\"text-align: right;\">\n",
       "      <th></th>\n",
       "      <th>fix_index</th>\n",
       "      <th>x</th>\n",
       "      <th>y</th>\n",
       "      <th>fix_dur</th>\n",
       "      <th>doc</th>\n",
       "      <th>subject</th>\n",
       "      <th>cond</th>\n",
       "    </tr>\n",
       "  </thead>\n",
       "  <tbody>\n",
       "    <tr>\n",
       "      <th>0</th>\n",
       "      <td>1</td>\n",
       "      <td>461.250</td>\n",
       "      <td>63.2500</td>\n",
       "      <td>4</td>\n",
       "      <td>image-09</td>\n",
       "      <td>18</td>\n",
       "      <td>1</td>\n",
       "    </tr>\n",
       "    <tr>\n",
       "      <th>1</th>\n",
       "      <td>2</td>\n",
       "      <td>345.750</td>\n",
       "      <td>41.7500</td>\n",
       "      <td>4</td>\n",
       "      <td>image-09</td>\n",
       "      <td>18</td>\n",
       "      <td>1</td>\n",
       "    </tr>\n",
       "    <tr>\n",
       "      <th>2</th>\n",
       "      <td>3</td>\n",
       "      <td>315.938</td>\n",
       "      <td>24.6875</td>\n",
       "      <td>16</td>\n",
       "      <td>image-09</td>\n",
       "      <td>18</td>\n",
       "      <td>1</td>\n",
       "    </tr>\n",
       "    <tr>\n",
       "      <th>3</th>\n",
       "      <td>4</td>\n",
       "      <td>487.333</td>\n",
       "      <td>37.7778</td>\n",
       "      <td>9</td>\n",
       "      <td>image-09</td>\n",
       "      <td>18</td>\n",
       "      <td>1</td>\n",
       "    </tr>\n",
       "    <tr>\n",
       "      <th>4</th>\n",
       "      <td>5</td>\n",
       "      <td>430.333</td>\n",
       "      <td>104.3330</td>\n",
       "      <td>6</td>\n",
       "      <td>image-09</td>\n",
       "      <td>18</td>\n",
       "      <td>1</td>\n",
       "    </tr>\n",
       "  </tbody>\n",
       "</table>\n",
       "</div>"
      ],
      "text/plain": [
       "   fix_index        x         y  fix_dur       doc subject cond\n",
       "0          1  461.250   63.2500        4  image-09      18    1\n",
       "1          2  345.750   41.7500        4  image-09      18    1\n",
       "2          3  315.938   24.6875       16  image-09      18    1\n",
       "3          4  487.333   37.7778        9  image-09      18    1\n",
       "4          5  430.333  104.3330        6  image-09      18    1"
      ]
     },
     "execution_count": 14,
     "metadata": {},
     "output_type": "execute_result"
    }
   ],
   "source": [
    "fdf.head()"
   ]
  },
  {
   "cell_type": "code",
   "execution_count": 15,
   "metadata": {
    "collapsed": true,
    "jupyter": {
     "outputs_hidden": true
    }
   },
   "outputs": [],
   "source": [
    "fdf.to_csv('CSV/subjects/' + subject + '.csv', index = False, header = False)"
   ]
  },
  {
   "cell_type": "code",
   "execution_count": 16,
   "metadata": {
    "collapsed": false,
    "jupyter": {
     "outputs_hidden": false
    }
   },
   "outputs": [
    {
     "data": {
      "text/html": [
       "<div>\n",
       "<table border=\"1\" class=\"dataframe\">\n",
       "  <thead>\n",
       "    <tr style=\"text-align: right;\">\n",
       "      <th></th>\n",
       "      <th>fix_index</th>\n",
       "      <th>x</th>\n",
       "      <th>y</th>\n",
       "      <th>fix_dur</th>\n",
       "      <th>doc</th>\n",
       "      <th>subject</th>\n",
       "      <th>cond</th>\n",
       "    </tr>\n",
       "  </thead>\n",
       "  <tbody>\n",
       "    <tr>\n",
       "      <th>2161</th>\n",
       "      <td>2162</td>\n",
       "      <td>1048.63</td>\n",
       "      <td>1661.25</td>\n",
       "      <td>8</td>\n",
       "      <td>image-12</td>\n",
       "      <td>18</td>\n",
       "      <td>1</td>\n",
       "    </tr>\n",
       "    <tr>\n",
       "      <th>2162</th>\n",
       "      <td>2163</td>\n",
       "      <td>1175.67</td>\n",
       "      <td>1595.54</td>\n",
       "      <td>24</td>\n",
       "      <td>image-12</td>\n",
       "      <td>18</td>\n",
       "      <td>1</td>\n",
       "    </tr>\n",
       "    <tr>\n",
       "      <th>2163</th>\n",
       "      <td>2164</td>\n",
       "      <td>1132.20</td>\n",
       "      <td>1630.60</td>\n",
       "      <td>5</td>\n",
       "      <td>image-12</td>\n",
       "      <td>18</td>\n",
       "      <td>1</td>\n",
       "    </tr>\n",
       "    <tr>\n",
       "      <th>2164</th>\n",
       "      <td>2165</td>\n",
       "      <td>1054.68</td>\n",
       "      <td>1561.25</td>\n",
       "      <td>28</td>\n",
       "      <td>image-12</td>\n",
       "      <td>18</td>\n",
       "      <td>1</td>\n",
       "    </tr>\n",
       "    <tr>\n",
       "      <th>2165</th>\n",
       "      <td>2166</td>\n",
       "      <td>1983.75</td>\n",
       "      <td>2102.75</td>\n",
       "      <td>4</td>\n",
       "      <td>image-12</td>\n",
       "      <td>18</td>\n",
       "      <td>1</td>\n",
       "    </tr>\n",
       "  </tbody>\n",
       "</table>\n",
       "</div>"
      ],
      "text/plain": [
       "      fix_index        x        y  fix_dur       doc subject cond\n",
       "2161       2162  1048.63  1661.25        8  image-12      18    1\n",
       "2162       2163  1175.67  1595.54       24  image-12      18    1\n",
       "2163       2164  1132.20  1630.60        5  image-12      18    1\n",
       "2164       2165  1054.68  1561.25       28  image-12      18    1\n",
       "2165       2166  1983.75  2102.75        4  image-12      18    1"
      ]
     },
     "execution_count": 16,
     "metadata": {},
     "output_type": "execute_result"
    }
   ],
   "source": [
    "fdf.tail()"
   ]
  }
 ],
 "metadata": {
  "kernelspec": {
   "display_name": "Python 3",
   "language": "python",
   "name": "python3"
  },
  "language_info": {
   "codemirror_mode": {
    "name": "ipython",
    "version": 3
   },
   "file_extension": ".py",
   "mimetype": "text/x-python",
   "name": "python",
   "nbconvert_exporter": "python",
   "pygments_lexer": "ipython3",
   "version": "3.7.6"
  }
 },
 "nbformat": 4,
 "nbformat_minor": 4
}
