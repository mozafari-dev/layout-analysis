{
 "cells": [
  {
   "cell_type": "code",
   "execution_count": 50,
   "metadata": {
    "collapsed": true
   },
   "outputs": [],
   "source": [
    "import pandas as pd\n",
    "import numpy as np"
   ]
  },
  {
   "cell_type": "code",
   "execution_count": 51,
   "metadata": {
    "collapsed": true
   },
   "outputs": [],
   "source": [
    "df = pd.read_csv('data/all_fixations_with_parameters_2.csv')"
   ]
  },
  {
   "cell_type": "code",
   "execution_count": 52,
   "metadata": {
    "collapsed": true
   },
   "outputs": [],
   "source": [
    "regression_list = list()\n",
    "return_sweep = list()"
   ]
  },
  {
   "cell_type": "code",
   "execution_count": 53,
   "metadata": {
    "collapsed": false
   },
   "outputs": [
    {
     "data": {
      "text/html": [
       "<div>\n",
       "<table border=\"1\" class=\"dataframe\">\n",
       "  <thead>\n",
       "    <tr style=\"text-align: right;\">\n",
       "      <th></th>\n",
       "      <th>time</th>\n",
       "      <th>fix_index</th>\n",
       "      <th>x</th>\n",
       "      <th>y</th>\n",
       "      <th>fix_dur</th>\n",
       "      <th>doc</th>\n",
       "      <th>subject</th>\n",
       "      <th>cond</th>\n",
       "      <th>section</th>\n",
       "      <th>roi</th>\n",
       "      <th>dist</th>\n",
       "      <th>backward</th>\n",
       "      <th>regression</th>\n",
       "      <th>sweep</th>\n",
       "    </tr>\n",
       "  </thead>\n",
       "  <tbody>\n",
       "    <tr>\n",
       "      <th>0</th>\n",
       "      <td>61</td>\n",
       "      <td>1</td>\n",
       "      <td>108.52</td>\n",
       "      <td>24.10</td>\n",
       "      <td>5</td>\n",
       "      <td>image-09</td>\n",
       "      <td>1</td>\n",
       "      <td>2</td>\n",
       "      <td>S1</td>\n",
       "      <td>Introduction</td>\n",
       "      <td>0.00</td>\n",
       "      <td>0</td>\n",
       "      <td>0</td>\n",
       "      <td>0</td>\n",
       "    </tr>\n",
       "    <tr>\n",
       "      <th>1</th>\n",
       "      <td>69</td>\n",
       "      <td>2</td>\n",
       "      <td>149.44</td>\n",
       "      <td>11.50</td>\n",
       "      <td>7</td>\n",
       "      <td>image-09</td>\n",
       "      <td>1</td>\n",
       "      <td>2</td>\n",
       "      <td>S1</td>\n",
       "      <td>Introduction</td>\n",
       "      <td>42.51</td>\n",
       "      <td>0</td>\n",
       "      <td>0</td>\n",
       "      <td>0</td>\n",
       "    </tr>\n",
       "    <tr>\n",
       "      <th>2</th>\n",
       "      <td>76</td>\n",
       "      <td>3</td>\n",
       "      <td>153.81</td>\n",
       "      <td>22.24</td>\n",
       "      <td>6</td>\n",
       "      <td>image-09</td>\n",
       "      <td>1</td>\n",
       "      <td>2</td>\n",
       "      <td>S1</td>\n",
       "      <td>Introduction</td>\n",
       "      <td>11.60</td>\n",
       "      <td>0</td>\n",
       "      <td>0</td>\n",
       "      <td>0</td>\n",
       "    </tr>\n",
       "    <tr>\n",
       "      <th>3</th>\n",
       "      <td>105</td>\n",
       "      <td>4</td>\n",
       "      <td>162.41</td>\n",
       "      <td>17.19</td>\n",
       "      <td>5</td>\n",
       "      <td>image-09</td>\n",
       "      <td>1</td>\n",
       "      <td>2</td>\n",
       "      <td>S1</td>\n",
       "      <td>Introduction</td>\n",
       "      <td>9.97</td>\n",
       "      <td>0</td>\n",
       "      <td>0</td>\n",
       "      <td>0</td>\n",
       "    </tr>\n",
       "    <tr>\n",
       "      <th>4</th>\n",
       "      <td>113</td>\n",
       "      <td>5</td>\n",
       "      <td>59.94</td>\n",
       "      <td>8.44</td>\n",
       "      <td>5</td>\n",
       "      <td>image-09</td>\n",
       "      <td>1</td>\n",
       "      <td>2</td>\n",
       "      <td>S1</td>\n",
       "      <td>Introduction</td>\n",
       "      <td>102.84</td>\n",
       "      <td>0</td>\n",
       "      <td>0</td>\n",
       "      <td>0</td>\n",
       "    </tr>\n",
       "  </tbody>\n",
       "</table>\n",
       "</div>"
      ],
      "text/plain": [
       "   time  fix_index       x      y  fix_dur       doc  subject  cond section  \\\n",
       "0    61          1  108.52  24.10        5  image-09        1     2      S1   \n",
       "1    69          2  149.44  11.50        7  image-09        1     2      S1   \n",
       "2    76          3  153.81  22.24        6  image-09        1     2      S1   \n",
       "3   105          4  162.41  17.19        5  image-09        1     2      S1   \n",
       "4   113          5   59.94   8.44        5  image-09        1     2      S1   \n",
       "\n",
       "            roi    dist  backward  regression  sweep  \n",
       "0  Introduction    0.00         0           0      0  \n",
       "1  Introduction   42.51         0           0      0  \n",
       "2  Introduction   11.60         0           0      0  \n",
       "3  Introduction    9.97         0           0      0  \n",
       "4  Introduction  102.84         0           0      0  "
      ]
     },
     "execution_count": 53,
     "metadata": {},
     "output_type": "execute_result"
    }
   ],
   "source": [
    "df.head()"
   ]
  },
  {
   "cell_type": "code",
   "execution_count": 54,
   "metadata": {
    "collapsed": false
   },
   "outputs": [],
   "source": [
    "df.insert(loc=11, column='speed', value=0)\n",
    "t0 = 0\n",
    "for i, rows in df.iterrows():\n",
    "    _time = rows['time'] - t0\n",
    "    t0 = rows['time']\n",
    "    df.loc[i, 'time'] = _time \n",
    "    if _time != 0:\n",
    "        df.loc[i, 'speed'] = round(rows['dist']/_time, 2)\n",
    "    df.loc[i, 'subject'] = 'sub-' + str(rows['subject']) \n",
    "    df.loc[i, 'cond'] = str(rows['cond']) + '-column' "
   ]
  },
  {
   "cell_type": "code",
   "execution_count": 68,
   "metadata": {
    "collapsed": false
   },
   "outputs": [],
   "source": [
    "regression = df.loc[df['regression'] == 1]\n",
    "regression = regression[['time','fix_index','x','y','fix_dur','doc','subject','cond','section','roi','dist','speed']]\n",
    "regression.to_csv(\"data/regression.csv\", index = False)"
   ]
  },
  {
   "cell_type": "code",
   "execution_count": 69,
   "metadata": {
    "collapsed": false
   },
   "outputs": [],
   "source": [
    "sweep = df.loc[df['sweep'] == 1]\n",
    "sweep = sweep[['time','fix_index','x','y','fix_dur','doc','subject','cond','section','roi','dist','speed']]\n",
    "sweep.to_csv(\"data/sweep.csv\", index = False)"
   ]
  },
  {
   "cell_type": "code",
   "execution_count": null,
   "metadata": {
    "collapsed": true
   },
   "outputs": [],
   "source": []
  }
 ],
 "metadata": {
  "kernelspec": {
   "display_name": "Python 2",
   "language": "python",
   "name": "python2"
  },
  "language_info": {
   "codemirror_mode": {
    "name": "ipython",
    "version": 2
   },
   "file_extension": ".py",
   "mimetype": "text/x-python",
   "name": "python",
   "nbconvert_exporter": "python",
   "pygments_lexer": "ipython2",
   "version": "2.7.11"
  }
 },
 "nbformat": 4,
 "nbformat_minor": 0
}
